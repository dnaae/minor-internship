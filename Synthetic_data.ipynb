{
  "cells": [
    {
      "cell_type": "markdown",
      "metadata": {
        "id": "view-in-github",
        "colab_type": "text"
      },
      "source": [
        "<a href=\"https://colab.research.google.com/github/dnaae/minor-internship/blob/FISH-QUANT-pipeline/Synthetic_data.ipynb\" target=\"_parent\"><img src=\"https://colab.research.google.com/assets/colab-badge.svg\" alt=\"Open In Colab\"/></a>"
      ]
    },
    {
      "cell_type": "code",
      "execution_count": null,
      "metadata": {
        "id": "6Q9AVArpLfjQ"
      },
      "outputs": [],
      "source": [
        "!pip install big-fish"
      ]
    },
    {
      "cell_type": "code",
      "source": [
        "!pip install sim-fish"
      ],
      "metadata": {
        "id": "JoFqaU561KIU"
      },
      "execution_count": null,
      "outputs": []
    },
    {
      "cell_type": "code",
      "execution_count": null,
      "metadata": {
        "id": "ppRxEC_hKspg"
      },
      "outputs": [],
      "source": [
        "import os\n",
        "import numpy as np\n",
        "import tifffile as tiff\n",
        "from google.colab import drive\n",
        "import bigfish\n",
        "import simfish as sim\n",
        "import bigfish.stack as stack\n",
        "import bigfish.detection as detection\n",
        "import bigfish.plot as plot\n",
        "from google.colab import drive\n",
        "import matplotlib.pyplot as plt\n",
        "import re"
      ]
    },
    {
      "cell_type": "code",
      "execution_count": null,
      "metadata": {
        "id": "JhngWk58FTUZ"
      },
      "outputs": [],
      "source": [
        "# Function to mount Google Drive and select a folder\n",
        "def choose_folder_colab():\n",
        "    drive.mount('/content/drive')\n",
        "    drive_folder = \"/content/drive/MyDrive/\"\n",
        "    contents = os.listdir(drive_folder)\n",
        "\n",
        "    print(\"Contents of your Google Drive:\")\n",
        "    for i, item in enumerate(contents):\n",
        "        print(f\"{i + 1}: {item}\")\n",
        "\n",
        "    while True:\n",
        "        choice = input(\"Enter the number of the folder you want to select (q to quit): \")\n",
        "        if choice.lower() == 'q':\n",
        "            return None\n",
        "        try:\n",
        "            choice = int(choice)\n",
        "            if 1 <= choice <= len(contents):\n",
        "                selected_folder = os.path.join(drive_folder, contents[choice - 1])\n",
        "                return selected_folder\n",
        "            else:\n",
        "                print(\"Invalid choice. Please try again or enter 'q' to quit.\")\n",
        "        except (ValueError, KeyboardInterrupt):\n",
        "            print(\"Invalid input. Please try again or enter 'q' to quit.\")"
      ]
    },
    {
      "cell_type": "code",
      "source": [
        "def process_tiff_image(image_data, channel, cell_name):\n",
        "    # Perform processing on the selected FISH image\n",
        "    rna_mip = stack.maximum_projection(image_data)\n",
        "    rna_mip = stack.gaussian_filter(rna_mip, sigma=5)\n",
        "    rna_log = stack.log_filter(rna_mip, sigma=3)\n",
        "    rna_background_mean = stack.remove_background_mean(rna_mip, kernel_shape=\"square\", kernel_size=31)\n",
        "    rna_background_gaussian = stack.remove_background_gaussian(rna_mip, sigma=3)\n",
        "\n",
        "    print(f\"Processing image (Channel {channel})\")\n",
        "    print(\"smfish channel\")\n",
        "    print(\"\\r shape: {0}\".format(image_data.shape))\n",
        "    print(\"\\r dtype: {0}\".format(image_data.dtype))\n",
        "    print(\"smfish channel (2D maximum projection)\")\n",
        "    print(\"\\r shape: {0}\".format(rna_mip.shape))\n",
        "    print(\"\\r dtype: {0}\".format(rna_mip.dtype))\n",
        "\n",
        "    spot_detection(image_data, rna_mip, channel, cell_name)  # Remove path_input argument"
      ],
      "metadata": {
        "id": "TENxEWvTElDn"
      },
      "execution_count": null,
      "outputs": []
    },
    {
      "cell_type": "code",
      "source": [
        "spots_post_clustering = None\n",
        "clusters = None\n",
        "\n",
        "def spot_detection(rna, rna_mip, channel, cell_name):\n",
        "    spots, threshold = detection.detect_spots(\n",
        "        images=rna,\n",
        "        return_threshold=True,\n",
        "        log_kernel_size=(1.167, 1.456, 1.456),\n",
        "        minimum_distance=(1.167, 1.456, 1.456)\n",
        "    )\n",
        "\n",
        "    print(\"detected spots\")\n",
        "    print(\"\\r shape: {0}\".format(spots.shape))\n",
        "    print(\"\\r dtype: {0}\".format(spots.dtype))\n",
        "    print(\"\\r threshold: {0}\".format(threshold))\n",
        "\n",
        "    # Plot spot detection\n",
        "    plot.plot_detection(rna_mip, spots, contrast=True)\n",
        "\n",
        "    # Plot elbow curve\n",
        "    plot.plot_elbow(\n",
        "        images=rna,\n",
        "        voxel_size=(300, 103, 103),\n",
        "        spot_radius=(350, 150, 150)\n",
        "    )\n",
        "\n",
        "    # Dense region decomposition\n",
        "    spots_post_decomposition, dense_regions, reference_spot = detection.decompose_dense(\n",
        "        image=rna,\n",
        "        spots=spots,\n",
        "        voxel_size=(300, 103, 103),\n",
        "        spot_radius=(350, 150, 150),\n",
        "        alpha=0.6,  # 0.6\n",
        "        beta=1,  # 1\n",
        "        gamma=5\n",
        "    )\n",
        "\n",
        "    print(\"detected spots before decomposition\")\n",
        "    print(\"\\r shape: {0}\".format(spots.shape))\n",
        "    print(\"\\r dtype: {0}\".format(spots.dtype), \"\\n\")\n",
        "    print(\"detected spots after decomposition\")\n",
        "    print(\"\\r shape: {0}\".format(spots_post_decomposition.shape))\n",
        "    print(\"\\r dtype: {0}\".format(spots_post_decomposition.dtype))\n",
        "\n",
        "    # Plot spot detection after decomposing regions\n",
        "    plot.plot_detection(rna_mip, spots_post_decomposition, contrast=True)\n",
        "\n",
        "    # Clusters detection\n",
        "    global spots_post_clustering\n",
        "    global clusters\n",
        "    spots_post_clustering, clusters = detection.detect_clusters(\n",
        "        spots=spots_post_decomposition,\n",
        "        voxel_size=(100, 103, 103),\n",
        "        radius=1000,\n",
        "        nb_min_spots=2  # 4\n",
        "    )\n",
        "\n",
        "    print(\"detected spots after clustering\")\n",
        "    print(\"\\r shape: {0}\".format(spots_post_clustering.shape))\n",
        "    print(\"\\r dtype: {0}\".format(spots_post_clustering.dtype), \"\\n\")\n",
        "    print(\"detected clusters\")\n",
        "    print(\"\\r shape: {0}\".format(clusters.shape))\n",
        "    print(\"\\r dtype: {0}\".format(clusters.dtype))\n",
        "\n",
        "    # Plot\n",
        "    plot.plot_detection(\n",
        "        rna_mip,\n",
        "        spots=[spots_post_decomposition, clusters[:, :3]],\n",
        "        shape=[\"circle\", \"polygon\"],\n",
        "        radius=[3, 6],\n",
        "        color=[\"red\", \"blue\"],\n",
        "        linewidth=[1, 2],\n",
        "        fill=[False, True],\n",
        "        contrast=True\n",
        "    )\n"
      ],
      "metadata": {
        "id": "walbM0SaCrIN"
      },
      "execution_count": null,
      "outputs": []
    },
    {
      "cell_type": "code",
      "source": [
        "def process_images_interactively(image_generator):\n",
        "    # Iterate over all images in the generator\n",
        "    for index, image_tuple in enumerate(image_generator):\n",
        "        image_data = image_tuple[0]  # Extract the image data from the tuple\n",
        "        print(f\"Processing Image {index + 1}\")\n",
        "\n",
        "        # Perform processing on the selected FISH image\n",
        "        process_tiff_image(image_data, 2, f\"cell_{index}\")\n",
        "\n",
        "        # Check if spots and clusters are detected\n",
        "        if spots_post_clustering is not None:\n",
        "            # Save spots data to CSV file\n",
        "            spots_file_path = f\"spots_cell_{index}.csv\"\n",
        "            stack.save_data_to_csv(spots_post_clustering, spots_file_path)\n",
        "            print(f\"CSV file saved for Spots - cell_{index}\")\n",
        "\n",
        "        if clusters is not None:\n",
        "            # Save clusters data to CSV file\n",
        "            clusters_file_path = f\"clusters_cell_{index}.csv\"\n",
        "            stack.save_data_to_csv(clusters, clusters_file_path)\n",
        "            print(f\"CSV file saved for Clusters - cell_{index}\")\n",
        "\n",
        "\n",
        "\n",
        "# Generate synthetic image data\n",
        "image_generator = sim.simulate_images(n_images=1, ndim=3, n_spots=100,n_clusters=10,\n",
        "\n",
        "                                      image_shape=(15,512,512), image_dtype=np.uint16,\n",
        "                                voxel_size=(100, 100,100), sigma=(100, 100,100),\n",
        "                                      )\n",
        "\n",
        "# Call process_images_interactively with synthetic data\n",
        "process_images_interactively(image_generator)\n"
      ],
      "metadata": {
        "id": "X_4sUOY17XaM"
      },
      "execution_count": null,
      "outputs": []
    },
    {
      "cell_type": "code",
      "source": [
        "#test\n",
        "def process_images_interactively(image_generator):\n",
        "    # Iterate over all images in the generator\n",
        "    for index, image_tuple in enumerate(image_generator):\n",
        "        image_data = image_tuple[0]  # Extract the image data from the tuple\n",
        "        print(f\"Processing Image {index + 1}\")\n",
        "\n",
        "        # Perform processing on the selected FISH image\n",
        "        process_tiff_image(image_data, 2, f\"cell_{index}\")\n",
        "\n",
        "        # Save the data to CSV files\n",
        "        try:\n",
        "            if spots_post_clustering is not None:\n",
        "                stack.save_data_to_csv(spots_post_clustering, f\"spots_cell_{index}.csv\")\n",
        "                print(f\"CSV file saved for Spots - cell_{index}\")\n",
        "            if clusters is not None:\n",
        "                stack.save_data_to_csv(clusters, f\"clusters_cell_{index}.csv\")\n",
        "                print(f\"CSV file saved for Clusters - cell_{index}\")\n",
        "        except Exception as e:\n",
        "            print(f\"Error saving CSV files for cell_{index}: {e}\")\n",
        "\n",
        "\n",
        "# Generate synthetic image data\n",
        "image_generator = sim.simulate_images(n_images=3, ndim=3, n_spots=100, random_n_spots=False, n_clusters=25,\n",
        "                                      random_n_clusters=False, n_spots_cluster=0, random_n_spots_cluster=False,\n",
        "                                      centered_cluster=False, image_shape=(128, 128,128), image_dtype=np.uint16,\n",
        "                                      subpixel_factors=None, voxel_size=(100, 100,100), sigma=(150, 150,150),\n",
        "                                      random_sigma=0.05, amplitude=5000, random_amplitude=0.05,\n",
        "                                      noise_level=300, random_noise=0.05)\n",
        "\n",
        "# Call process_images_interactively with synthetic data\n",
        "process_images_interactively(image_generator)"
      ],
      "metadata": {
        "id": "dTmDEXiM1iA9"
      },
      "execution_count": null,
      "outputs": []
    }
  ],
  "metadata": {
    "colab": {
      "provenance": [],
      "authorship_tag": "ABX9TyM66fTuRIkahMPtP8WHE3xq",
      "include_colab_link": true
    },
    "kernelspec": {
      "display_name": "Python 3",
      "name": "python3"
    },
    "language_info": {
      "name": "python"
    }
  },
  "nbformat": 4,
  "nbformat_minor": 0
}