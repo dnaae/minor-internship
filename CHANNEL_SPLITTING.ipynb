{
  "nbformat": 4,
  "nbformat_minor": 0,
  "metadata": {
    "colab": {
      "provenance": [],
      "authorship_tag": "ABX9TyPLR65RedqsnHyYrDE6a9dV",
      "include_colab_link": true
    },
    "kernelspec": {
      "name": "python3",
      "display_name": "Python 3"
    },
    "language_info": {
      "name": "python"
    }
  },
  "cells": [
    {
      "cell_type": "markdown",
      "metadata": {
        "id": "view-in-github",
        "colab_type": "text"
      },
      "source": [
        "<a href=\"https://colab.research.google.com/github/dnaae/minor-internship/blob/FISH-QUANT-pipeline/CHANNEL_SPLITTING.ipynb\" target=\"_parent\"><img src=\"https://colab.research.google.com/assets/colab-badge.svg\" alt=\"Open In Colab\"/></a>"
      ]
    },
    {
      "cell_type": "code",
      "source": [
        "#Imports\n",
        "import os\n",
        "import numpy as np\n",
        "import tifffile as tiff\n",
        "from google.colab import drive"
      ],
      "metadata": {
        "id": "ITke9SaMqbZY"
      },
      "execution_count": null,
      "outputs": []
    },
    {
      "cell_type": "code",
      "source": [
        "# Mount Google Drive\n",
        "drive.mount('/content/drive')\n",
        "# Specify the top-level folder in your Google Drive\n",
        "drive_folder = \"/content/drive/MyDrive/\""
      ],
      "metadata": {
        "id": "gQ76_Bexsilf",
        "colab": {
          "base_uri": "https://localhost:8080/"
        },
        "outputId": "5d53fee9-50eb-48b9-a13e-75390b324d8c"
      },
      "execution_count": null,
      "outputs": [
        {
          "output_type": "stream",
          "name": "stdout",
          "text": [
            "Mounted at /content/drive\n"
          ]
        }
      ]
    },
    {
      "cell_type": "code",
      "source": [
        "#Function to interactively select treatment folder\n",
        "def input_folder_interactive():\n",
        "  # List contents of the drive_folder\n",
        "  contents = os.listdir(drive_folder)\n",
        "  # Print contents and ask the user to select a folder\n",
        "  print(\"Contents of your Google Drive:\")\n",
        "  for i, item in enumerate(contents):\n",
        "      print(f\"{i + 1}: {item}\")\n",
        "  try:\n",
        "      choice = int(input(\"Enter the number of the folder you want to select: \"))\n",
        "      if 1 <= choice <= len(contents):\n",
        "          selected_folder = os.path.join(drive_folder, contents[choice - 1])\n",
        "          return selected_folder\n",
        "      else:\n",
        "          print(\"Invalid choice. Exiting.\")\n",
        "          return None\n",
        "  except ValueError:\n",
        "      print(\"Invalid input. Exiting.\")\n",
        "      return None"
      ],
      "metadata": {
        "id": "yQxwqz_PpR-p"
      },
      "execution_count": null,
      "outputs": []
    },
    {
      "cell_type": "code",
      "source": [
        "# Function to split channels and save as separate TIFF files\n",
        "def split_and_save_channels(input_folder, output_folder):\n",
        "    # List all image files in the input folder\n",
        "    image_files = [f for f in os.listdir(input_folder) if f.endswith(\".tif\")]\n",
        "\n",
        "    for image_file in image_files:\n",
        "        image_path = os.path.join(input_folder, image_file)\n",
        "\n",
        "        # Load the image using tifffile\n",
        "        image = tiff.imread(image_path)  # Load 3D image stack\n",
        "\n",
        "        # Transpose the image dimensions to match the expected shape\n",
        "        image = np.transpose(image, (1, 0, 2, 3))\n",
        "\n",
        "        # Ensure that there are exactly 2 channels and 15 slices in the stack\n",
        "        if image.shape != (2, 15, image.shape[2], image.shape[3]):\n",
        "            print(f\"Unsupported image shape: {image.shape}. Skipping {image_file}\")\n",
        "            continue\n",
        "\n",
        "        # Save each channel as a separate TIFF file using tifffile\n",
        "        for channel_idx in range(image.shape[0]):\n",
        "            channel_volume = image[channel_idx, :, :, :]\n",
        "            channel_name = f\"{image_file}_C{channel_idx + 1}\"\n",
        "\n",
        "            # Save the channel as a separate TIFF file using tifffile\n",
        "            tiff.imsave(os.path.join(output_folder, f\"{channel_name}.tif\"), channel_volume)\n"
      ],
      "metadata": {
        "id": "cUzZE2qvBEba"
      },
      "execution_count": null,
      "outputs": []
    },
    {
      "cell_type": "code",
      "source": [
        "#this main creates splitted images as output in a new subfolder \"splitted images\" in the treatment folder\n",
        "if __name__ == \"__main__\":\n",
        "    # Allow the user to choose a folder interactively in Google Colab\n",
        "    path_input = input_folder_interactive()\n",
        "    if path_input:\n",
        "        print(f\"Selected folder: {path_input}\")\n",
        "\n",
        "        # Create the output folder path by joining the input folder path with \"output\"\n",
        "        path_output = os.path.join(path_input, \"output\")\n",
        "        os.makedirs(path_output, exist_ok=True)  # Create the \"output\" folder if it doesn't exist\n",
        "\n",
        "        # Create the \"splitted images\" subfolder within the \"output\" folder\n",
        "        path_splitted = os.path.join(path_output, \"splitted images\")\n",
        "        os.makedirs(path_splitted, exist_ok=True)  # Create the \"splitted images\" subfolder if it doesn't exist\n",
        "\n",
        "        print(f\"Output folder created: {path_splitted}\")\n",
        "\n",
        "        # Split channels and save as separate files in the \"splitted images\" subfolder\n",
        "        split_and_save_channels(path_input, path_splitted)\n",
        "\n",
        "\n",
        "\n",
        "\n"
      ],
      "metadata": {
        "colab": {
          "base_uri": "https://localhost:8080/"
        },
        "id": "yTPLIBJCquwK",
        "outputId": "7991a701-7885-4d3d-ec61-4e9b44f79de7"
      },
      "execution_count": null,
      "outputs": [
        {
          "output_type": "stream",
          "name": "stdout",
          "text": [
            "Contents of your Google Drive:\n",
            "1: output_dataframe_[_FULV_].csv\n",
            "2: CV - D_Mitsea.pdf\n",
            "3: Colab Notebooks\n",
            "4: rf_final(1).ipynb\n",
            "5: Random Forest 7_05.ipynb\n",
            "6: Classroom\n",
            "7: split channels.ijm\n",
            "8: NOTEBOOK_6.cell extraction.ipynb\n",
            "9: internship notebooks\n",
            "10: notebook 4 WORKS WITH SPLITTING CHANNEL OUTPUT.ipynb\n",
            "11: unet_saved_model\n",
            "12: unet_painful_model\n",
            "13: complex unet.ipynb\n",
            "14: double_distance_model\n",
            "15: metadata.csv.gsheet\n",
            "16: DMSO MATLAB.csv\n",
            "17: output_images_cell_MCF7_AREG_KDM5-C70_166.tif_C2.tif.png\n",
            "18: KDM5-C70\n",
            "19: 5-AZA\n",
            "20: python results.csv\n",
            "21: matlab all results.csv\n",
            "22: Untitled0.ipynb\n",
            "23: Matlab python comparison.ipynb\n",
            "24: Untitled1.ipynb\n",
            "25: TSA\n"
          ]
        }
      ]
    }
  ]
}